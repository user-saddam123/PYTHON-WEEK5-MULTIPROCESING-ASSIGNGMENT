{
 "cells": [
  {
   "cell_type": "markdown",
   "id": "bc06e110-54c0-417b-891d-09134e64cba0",
   "metadata": {},
   "source": [
    "MULTIPROCESING ASSIGNMENT SOLUTION BY-SADDAM ANSARI "
   ]
  },
  {
   "cell_type": "code",
   "execution_count": null,
   "id": "db6d30a2-5b4c-4ebe-8f32-e91f350f9b3c",
   "metadata": {},
   "outputs": [],
   "source": []
  },
  {
   "cell_type": "markdown",
   "id": "d1cca775-b852-4dbb-904f-9c011ae316c6",
   "metadata": {},
   "source": [
    "Q1. What is multiprocessing in python? Why is it useful?"
   ]
  },
  {
   "cell_type": "markdown",
   "id": "95d50283-a2fd-46b6-b8ab-ee2b8502df52",
   "metadata": {},
   "source": [
    "Multiprocessing in Python refers to the ability of a program to execute multiple processes concurrently.\n",
    "\n",
    "Multiprocessing is useful in Python for several reasons:\n",
    "\n",
    "1. Increased CPU Utilization.\n",
    "2. Resource Management\n",
    "3. Fault Tolerance\n",
    "4. Improved Performance"
   ]
  },
  {
   "cell_type": "code",
   "execution_count": null,
   "id": "fcc1ab6f-6933-4c98-adb8-0dff30d36064",
   "metadata": {},
   "outputs": [],
   "source": []
  },
  {
   "cell_type": "markdown",
   "id": "e81d24c0-d7dc-4bae-9d9d-b20f38716fe9",
   "metadata": {},
   "source": [
    "Q2. What are the differences between multiprocessing and multithreading?"
   ]
  },
  {
   "cell_type": "markdown",
   "id": "f0108df3-7a96-4d72-8041-813c1e3fd82a",
   "metadata": {},
   "source": [
    "* Multiprocessing involves dividing the work into separate entities (processes) that work independently with their own resources. They don't directly interact but can communicate.\n",
    "\n",
    "* Multithreading involves multiple entities (threads) working together within the same entity (process) and sharing the same resources. They need coordination to avoid conflicts and ensure proper synchronization."
   ]
  },
  {
   "cell_type": "code",
   "execution_count": null,
   "id": "f7ff0238-dd76-424d-9c19-01fa44367d13",
   "metadata": {},
   "outputs": [],
   "source": []
  },
  {
   "cell_type": "markdown",
   "id": "14da5c38-7499-4555-bfd2-9d35049dadf7",
   "metadata": {},
   "source": [
    "Q3. Write a python code to create a process using the multiprocessing module."
   ]
  },
  {
   "cell_type": "code",
   "execution_count": 1,
   "id": "3fcb7917-275f-492e-96f9-9ad409f7f7c1",
   "metadata": {},
   "outputs": [
    {
     "name": "stdout",
     "output_type": "stream",
     "text": [
      "this is my main prog\n",
      "this is my multiprocesing program\n"
     ]
    }
   ],
   "source": [
    "import multiprocessing\n",
    "def test():\n",
    "    print(\"this is my multiprocesing program\")\n",
    "    \n",
    "if __name__=='__main__' :\n",
    "    \n",
    "    m= multiprocessing.Process(target=test)\n",
    "    print(\"this is my main prog\")\n",
    "    m.start()\n",
    "    m.join()"
   ]
  },
  {
   "cell_type": "code",
   "execution_count": null,
   "id": "69739b75-ef84-4894-ab47-03b983077ac8",
   "metadata": {},
   "outputs": [],
   "source": []
  },
  {
   "cell_type": "markdown",
   "id": "2718e747-a003-4fa6-9d8b-18cb700cd1b1",
   "metadata": {},
   "source": [
    "Q4. What is a multiprocessing pool in python? Why is it used?"
   ]
  },
  {
   "cell_type": "markdown",
   "id": "481a60c9-c40c-4445-be60-96e97a47ca78",
   "metadata": {},
   "source": [
    "In Python, a multiprocessing pool is a way to create a group of worker processes that can execute tasks concurrently.\n",
    "\n",
    "Multiprocessing pools are especially useful when you have a large number of similar tasks to execute and want to distribute them efficiently among multiple processes."
   ]
  },
  {
   "cell_type": "code",
   "execution_count": null,
   "id": "d9dfcc3a-4ee2-4027-b1c1-3ffd29c8c69c",
   "metadata": {},
   "outputs": [],
   "source": []
  },
  {
   "cell_type": "markdown",
   "id": "dcb637e9-9b96-4f2f-bbfa-989ef17299b7",
   "metadata": {},
   "source": [
    "Q5. How can we create a pool of worker processes in python using the multiprocessing module?"
   ]
  },
  {
   "cell_type": "code",
   "execution_count": 13,
   "id": "f6908186-507f-4cfe-80d4-c41fdc830f98",
   "metadata": {},
   "outputs": [
    {
     "name": "stdout",
     "output_type": "stream",
     "text": [
      "1\n",
      "8\n",
      "27\n",
      "64\n",
      "125\n",
      "216\n"
     ]
    }
   ],
   "source": [
    "import multiprocessing\n",
    "\n",
    "def test(n):\n",
    "    result = n ** 3\n",
    "    return result\n",
    "\n",
    "if __name__ == '__main__':\n",
    "    pool = multiprocessing.Pool()\n",
    "\n",
    "    n = [1, 2, 3, 4, 5,6]\n",
    "    results = pool.map(test, n)\n",
    "\n",
    "    for result in results:\n",
    "        print(result)\n",
    "\n",
    "    pool.close()\n",
    "    pool.join()\n"
   ]
  },
  {
   "cell_type": "code",
   "execution_count": null,
   "id": "3f21ac0b-9946-434c-8193-78c29d0a3003",
   "metadata": {},
   "outputs": [],
   "source": []
  },
  {
   "cell_type": "markdown",
   "id": "33b7911d-b753-472c-8a38-fa0947d7dc98",
   "metadata": {},
   "source": [
    "Q6. Write a python program to create 4 processes, each process should print a different number using the\n",
    "multiprocessing module in python."
   ]
  },
  {
   "cell_type": "code",
   "execution_count": 14,
   "id": "d4696527-9f2f-4ac1-8229-3a026b25f500",
   "metadata": {},
   "outputs": [
    {
     "name": "stdout",
     "output_type": "stream",
     "text": [
      "Number: 1Number: 4Number: 2Number: 3\n",
      "\n",
      "\n",
      "\n"
     ]
    }
   ],
   "source": [
    "import multiprocessing\n",
    "\n",
    "def print_number(number):\n",
    "    print(f\"Number: {number}\")\n",
    "\n",
    "if __name__ == '__main__':\n",
    "    with multiprocessing.Pool(processes=4) as pool:\n",
    "        numbers = [1, 2, 3, 4]\n",
    "        pool.map(print_number, numbers)\n"
   ]
  },
  {
   "cell_type": "markdown",
   "id": "03c2e72e-a466-4548-97b5-3c8134a393b3",
   "metadata": {},
   "source": [
    "BY- Saddam Ansari , Place- Sahasa , Date-29/06/2023"
   ]
  },
  {
   "cell_type": "code",
   "execution_count": null,
   "id": "18542e1b-8272-4697-9b72-4d676ab96992",
   "metadata": {},
   "outputs": [],
   "source": []
  }
 ],
 "metadata": {
  "kernelspec": {
   "display_name": "Python 3 (ipykernel)",
   "language": "python",
   "name": "python3"
  },
  "language_info": {
   "codemirror_mode": {
    "name": "ipython",
    "version": 3
   },
   "file_extension": ".py",
   "mimetype": "text/x-python",
   "name": "python",
   "nbconvert_exporter": "python",
   "pygments_lexer": "ipython3",
   "version": "3.10.8"
  }
 },
 "nbformat": 4,
 "nbformat_minor": 5
}
